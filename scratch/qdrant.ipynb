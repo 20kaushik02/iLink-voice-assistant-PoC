{
 "cells": [
  {
   "cell_type": "code",
   "execution_count": 1,
   "id": "7d926e4e",
   "metadata": {},
   "outputs": [],
   "source": [
    "from qdrant_client import QdrantClient\n",
    "from qdrant_client.http import models\n",
    "import numpy as np"
   ]
  },
  {
   "cell_type": "code",
   "execution_count": 2,
   "id": "ba5a45cc",
   "metadata": {},
   "outputs": [],
   "source": [
    "# Connect to local Qdrant\n",
    "client = QdrantClient(url=\"http://localhost:6333\")"
   ]
  },
  {
   "cell_type": "code",
   "execution_count": 3,
   "id": "b356c559",
   "metadata": {},
   "outputs": [
    {
     "data": {
      "text/plain": [
       "True"
      ]
     },
     "execution_count": 3,
     "metadata": {},
     "output_type": "execute_result"
    }
   ],
   "source": [
    "# Create a collection (e.g., 384 dims for MiniLM embeddings)\n",
    "if client.collection_exists(\"docs\"):\n",
    "    client.delete_collection(\"docs\")\n",
    "client.create_collection(\n",
    "    collection_name=\"docs\",\n",
    "    vectors_config=models.VectorParams(size=384, distance=models.Distance.COSINE),\n",
    ")"
   ]
  },
  {
   "cell_type": "code",
   "execution_count": 4,
   "id": "b7bc3dbe",
   "metadata": {},
   "outputs": [
    {
     "data": {
      "text/plain": [
       "UpdateResult(operation_id=0, status=<UpdateStatus.COMPLETED: 'completed'>)"
      ]
     },
     "execution_count": 4,
     "metadata": {},
     "output_type": "execute_result"
    }
   ],
   "source": [
    "# Insert vectors\n",
    "embeddings = np.random.rand(10, 384).tolist()  # replace with real embeddings\n",
    "payloads = [{\"doc\": f\"Document {i}\"} for i in range(10)]\n",
    "\n",
    "client.upsert(\n",
    "    collection_name=\"docs\",\n",
    "    points=models.Batch(\n",
    "        ids=list(range(10)),\n",
    "        vectors=embeddings,\n",
    "        payloads=payloads,\n",
    "    ),\n",
    ")"
   ]
  },
  {
   "cell_type": "code",
   "execution_count": 5,
   "id": "b177d6dc",
   "metadata": {},
   "outputs": [
    {
     "name": "stdout",
     "output_type": "stream",
     "text": [
      "points=[ScoredPoint(id=8, version=0, score=0.75697726, payload={'doc': 'Document 8'}, vector=None, shard_key=None, order_value=None), ScoredPoint(id=3, version=0, score=0.75672156, payload={'doc': 'Document 3'}, vector=None, shard_key=None, order_value=None), ScoredPoint(id=9, version=0, score=0.75671417, payload={'doc': 'Document 9'}, vector=None, shard_key=None, order_value=None)]\n"
     ]
    }
   ],
   "source": [
    "# Query\n",
    "results = client.query_points(\n",
    "    collection_name=\"docs\",\n",
    "    query=np.random.rand(384).tolist(),\n",
    "    limit=3,\n",
    ")\n",
    "print(results)"
   ]
  },
  {
   "cell_type": "code",
   "execution_count": null,
   "id": "99b12cc2",
   "metadata": {},
   "outputs": [],
   "source": []
  }
 ],
 "metadata": {
  "kernelspec": {
   "display_name": "ilink-digital",
   "language": "python",
   "name": "python3"
  },
  "language_info": {
   "codemirror_mode": {
    "name": "ipython",
    "version": 3
   },
   "file_extension": ".py",
   "mimetype": "text/x-python",
   "name": "python",
   "nbconvert_exporter": "python",
   "pygments_lexer": "ipython3",
   "version": "3.12.6"
  }
 },
 "nbformat": 4,
 "nbformat_minor": 5
}
