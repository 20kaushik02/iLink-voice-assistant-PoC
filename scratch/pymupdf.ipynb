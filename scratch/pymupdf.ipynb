{
 "cells": [
  {
   "cell_type": "code",
   "execution_count": 12,
   "id": "dea8beb6",
   "metadata": {},
   "outputs": [],
   "source": [
    "import pymupdf\n",
    "import re"
   ]
  },
  {
   "cell_type": "code",
   "execution_count": 2,
   "id": "6c7641d9",
   "metadata": {},
   "outputs": [],
   "source": [
    "file_path = \"../data/docs/MSHA PPM/PPM Vol I.pdf\""
   ]
  },
  {
   "cell_type": "code",
   "execution_count": 13,
   "id": "b3398836",
   "metadata": {},
   "outputs": [
    {
     "name": "stdout",
     "output_type": "stream",
     "text": [
      "1959\n",
      "3268\n",
      "5037\n",
      "6957\n",
      "9535\n",
      "11920\n",
      "13789\n",
      "16072\n",
      "17895\n",
      "20222\n",
      "22182\n",
      "24378\n",
      "26333\n",
      "29053\n",
      "31685\n",
      "34354\n",
      "36889\n",
      "38948\n",
      "40880\n",
      "41571\n",
      "44306\n",
      "46785\n",
      "48888\n",
      "51368\n",
      "53880\n",
      "56338\n",
      "56405\n",
      "58674\n",
      "60967\n",
      "63336\n",
      "63632\n",
      "65570\n",
      "67834\n",
      "70512\n",
      "72997\n",
      "74356\n",
      "75897\n",
      "77633\n",
      "78054\n",
      "80147\n",
      "82112\n",
      "84151\n",
      "86349\n",
      "88801\n",
      "89666\n",
      "90608\n",
      "91303\n"
     ]
    }
   ],
   "source": [
    "doc = pymupdf.open(file_path)\n",
    "text = \"\"\n",
    "for page in doc:\n",
    "    if page.number < 2:\n",
    "        continue\n",
    "    text += re.sub(r\"\\s+\", \" \", page.get_text(sort=True))\n",
    "    print(len(text))"
   ]
  },
  {
   "cell_type": "code",
   "execution_count": 21,
   "id": "f97f6011",
   "metadata": {},
   "outputs": [
    {
     "name": "stdout",
     "output_type": "stream",
     "text": [
      ", protectorates, or commonwealths, must be inspected. I.3-2 Jurisdiction Over Mine Roads Section 3(h)(1)(B) of the Act defines MSHA's authority to assume jurisdiction of mine roads which pass through federal land administered by agencies that do not have responsibility for health and safety on those roads. The criteria or factors listed below will be used for determining jurisdiction. The presence of any of these factors should each weigh in favor of inclusion of the road under MSHA jurisdiction. 1. The road is owned by the mine operator; 2. The road is maintained by the operator; 3. The operator has the legal right to bring the road into compliance with MSHA regulations; 4. The road is used exclusively to provide access to the mine, or to other mines of the operator; 5. The road provides an exclusive or a major means of access for mine vehicles; or 6. The road was built by or for (by contractor) the mine operator. February 2003 (Release I-13) 1MSHA PROGRAM POLICY MANUAL VOLUME I I.3-3\n"
     ]
    }
   ],
   "source": [
    "print(text[1000:2000])"
   ]
  },
  {
   "cell_type": "code",
   "execution_count": null,
   "id": "b59463bd",
   "metadata": {},
   "outputs": [],
   "source": []
  }
 ],
 "metadata": {
  "kernelspec": {
   "display_name": "ilink-digital",
   "language": "python",
   "name": "python3"
  },
  "language_info": {
   "codemirror_mode": {
    "name": "ipython",
    "version": 3
   },
   "file_extension": ".py",
   "mimetype": "text/x-python",
   "name": "python",
   "nbconvert_exporter": "python",
   "pygments_lexer": "ipython3",
   "version": "3.12.6"
  }
 },
 "nbformat": 4,
 "nbformat_minor": 5
}
